{
 "cells": [
  {
   "cell_type": "code",
   "execution_count": 5,
   "metadata": {},
   "outputs": [],
   "source": [
    "from pyswip import Prolog\n",
    "import pandas as pd\n",
    "from random import randrange"
   ]
  },
  {
   "cell_type": "code",
   "execution_count": 6,
   "metadata": {},
   "outputs": [],
   "source": [
    "prolog = Prolog()\n",
    "prolog.consult(\"morphophonologicalAnalyzer.pl\")"
   ]
  },
  {
   "cell_type": "code",
   "execution_count": 38,
   "metadata": {},
   "outputs": [
    {
     "ename": "PrologError",
     "evalue": "Caused by: 'analyze(cisim\n, L).'. Returned: 'error(existence_error(procedure, /(check_softening, 2)), context(/(analyze, 3), _4968))'.",
     "output_type": "error",
     "traceback": [
      "\u001b[1;31m---------------------------------------------------------------------------\u001b[0m",
      "\u001b[1;31mPrologError\u001b[0m                               Traceback (most recent call last)",
      "\u001b[1;32md:\\yedek\\user\\adü\\SENE 4\\Dönem 1\\staj1\\drive\\Code\\Synthetic Question Generator\\generatewords.ipynb Cell 3\u001b[0m in \u001b[0;36m<cell line: 7>\u001b[1;34m()\u001b[0m\n\u001b[0;32m      <a href='vscode-notebook-cell:/d%3A/yedek/user/ad%C3%BC/SENE%204/D%C3%B6nem%201/staj1/drive/Code/Synthetic%20Question%20Generator/generatewords.ipynb#W2sZmlsZQ%3D%3D?line=4'>5</a>\u001b[0m word \u001b[39m=\u001b[39m lines[\u001b[39m16\u001b[39m]\n\u001b[0;32m      <a href='vscode-notebook-cell:/d%3A/yedek/user/ad%C3%BC/SENE%204/D%C3%B6nem%201/staj1/drive/Code/Synthetic%20Question%20Generator/generatewords.ipynb#W2sZmlsZQ%3D%3D?line=5'>6</a>\u001b[0m query \u001b[39m=\u001b[39m prolog\u001b[39m.\u001b[39mquery(\u001b[39mf\u001b[39m\u001b[39m\"\u001b[39m\u001b[39manalyze(\u001b[39m\u001b[39m{\u001b[39;00mword\u001b[39m}\u001b[39;00m\u001b[39m, L).\u001b[39m\u001b[39m\"\u001b[39m)\n\u001b[1;32m----> <a href='vscode-notebook-cell:/d%3A/yedek/user/ad%C3%BC/SENE%204/D%C3%B6nem%201/staj1/drive/Code/Synthetic%20Question%20Generator/generatewords.ipynb#W2sZmlsZQ%3D%3D?line=6'>7</a>\u001b[0m \u001b[39mfor\u001b[39;00m soln \u001b[39min\u001b[39;00m query:\n\u001b[0;32m      <a href='vscode-notebook-cell:/d%3A/yedek/user/ad%C3%BC/SENE%204/D%C3%B6nem%201/staj1/drive/Code/Synthetic%20Question%20Generator/generatewords.ipynb#W2sZmlsZQ%3D%3D?line=7'>8</a>\u001b[0m     \u001b[39mprint\u001b[39m(soln[\u001b[39m\"\u001b[39m\u001b[39mL\u001b[39m\u001b[39m\"\u001b[39m]\u001b[39m.\u001b[39mdecode(\u001b[39m'\u001b[39m\u001b[39mUTF-8\u001b[39m\u001b[39m'\u001b[39m))\n",
      "File \u001b[1;32mc:\\Python39\\lib\\site-packages\\pyswip\\prolog.py:126\u001b[0m, in \u001b[0;36mProlog._QueryWrapper.__call__\u001b[1;34m(self, query, maxresult, catcherrors, normalize)\u001b[0m\n\u001b[0;32m    123\u001b[0m     \u001b[39mif\u001b[39;00m PL_exception(swipl_qid):\n\u001b[0;32m    124\u001b[0m         term \u001b[39m=\u001b[39m getTerm(PL_exception(swipl_qid))\n\u001b[1;32m--> 126\u001b[0m         \u001b[39mraise\u001b[39;00m PrologError(\u001b[39m\"\u001b[39m\u001b[39m\"\u001b[39m\u001b[39m.\u001b[39mjoin([\u001b[39m\"\u001b[39m\u001b[39mCaused by: \u001b[39m\u001b[39m'\u001b[39m\u001b[39m\"\u001b[39m, query, \u001b[39m\"\u001b[39m\u001b[39m'\u001b[39m\u001b[39m. \u001b[39m\u001b[39m\"\u001b[39m,\n\u001b[0;32m    127\u001b[0m                                    \u001b[39m\"\u001b[39m\u001b[39mReturned: \u001b[39m\u001b[39m'\u001b[39m\u001b[39m\"\u001b[39m, \u001b[39mstr\u001b[39m(term), \u001b[39m\"\u001b[39m\u001b[39m'\u001b[39m\u001b[39m.\u001b[39m\u001b[39m\"\u001b[39m]))\n\u001b[0;32m    129\u001b[0m \u001b[39mfinally\u001b[39;00m: \u001b[39m# This ensures that, whatever happens, we close the query\u001b[39;00m\n\u001b[0;32m    130\u001b[0m     PL_cut_query(swipl_qid)\n",
      "\u001b[1;31mPrologError\u001b[0m: Caused by: 'analyze(cisim\n, L).'. Returned: 'error(existence_error(procedure, /(check_softening, 2)), context(/(analyze, 3), _4968))'."
     ]
    }
   ],
   "source": [
    "with open(\"kelimeler.txt\", encoding=\"utf8\") as file:\n",
    "    lines = file.readlines()\n",
    "\n",
    "\n",
    "word = lines[16]\n",
    "query = prolog.query(f\"analyze({word}, L).\")\n",
    "for soln in query:\n",
    "    print(soln[\"L\"].decode('UTF-8'))"
   ]
  },
  {
   "cell_type": "code",
   "execution_count": null,
   "metadata": {},
   "outputs": [],
   "source": []
  }
 ],
 "metadata": {
  "kernelspec": {
   "display_name": "Python 3.9.5 64-bit",
   "language": "python",
   "name": "python3"
  },
  "language_info": {
   "codemirror_mode": {
    "name": "ipython",
    "version": 3
   },
   "file_extension": ".py",
   "mimetype": "text/x-python",
   "name": "python",
   "nbconvert_exporter": "python",
   "pygments_lexer": "ipython3",
   "version": "3.9.5"
  },
  "orig_nbformat": 4,
  "vscode": {
   "interpreter": {
    "hash": "81794d4967e6c3204c66dcd87b604927b115b27c00565d3d43f05ba2f3a2cb0d"
   }
  }
 },
 "nbformat": 4,
 "nbformat_minor": 2
}
